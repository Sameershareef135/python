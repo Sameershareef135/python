{
 "cells": [
  {
   "cell_type": "code",
   "execution_count": null,
   "id": "feb2bb4f-a251-4843-a868-b0084bef65d7",
   "metadata": {},
   "outputs": [],
   "source": [
    "print(\"hello\")"
   ]
  },
  {
   "cell_type": "markdown",
   "id": "ca69b969-b586-4fbd-8f70-8063883cd922",
   "metadata": {},
   "source": [
    "# first notebook"
   ]
  },
  {
   "cell_type": "code",
   "execution_count": null,
   "id": "d03e9b58-95a2-4773-9512-17e28af97ac3",
   "metadata": {},
   "outputs": [],
   "source": [
    "# THE ABOVE IS USED AS A MARKDOWN. ON A CELL, CHANGE CODE TO MARKDOWN FROM TOOLBAR AND THEN IN THE CELL USE \"#\" TO MAKE A MARKDOWN CELL"
   ]
  },
  {
   "cell_type": "markdown",
   "id": "f6220921-3eb4-403f-a638-2e5747119c0b",
   "metadata": {},
   "source": [
    "# if else statements\n"
   ]
  },
  {
   "cell_type": "code",
   "execution_count": null,
   "id": "7e531df6-2003-4482-949f-65f7dc59ea94",
   "metadata": {},
   "outputs": [],
   "source": [
    "if 25 < 10 or 1 < 3:\n",
    "    print(\" 'if' worked\")\n",
    "    # NESTED IF STATEMENT\n",
    "    if 10 > 5:\n",
    "        print(\"nested 'if' worked\")\n",
    "elif 25 < 20:\n",
    "    print(\"'elif' worked\")\n",
    "    if 10 > 5:\n",
    "        print(\"nested 'if' worked\")\n",
    "elif 25 < 30:\n",
    "    print(\"'elif 2' worked\")\n",
    "else:\n",
    "    (\"nothing worked\")\n",
    "        "
   ]
  },
  {
   "cell_type": "markdown",
   "id": "18b9dcd4-0c8f-4106-a756-0bb284c4c98f",
   "metadata": {},
   "source": [
    "# for loop\n"
   ]
  },
  {
   "cell_type": "code",
   "execution_count": null,
   "id": "bee07ceb-e28c-456d-a7cd-8dd7d1dadb34",
   "metadata": {},
   "outputs": [],
   "source": [
    "integer = [1,2,3,4,5]\n",
    "for number in integer:\n",
    "    print(number)"
   ]
  },
  {
   "cell_type": "code",
   "execution_count": null,
   "id": "cdb3aad4-1923-498f-8a4f-e35968249966",
   "metadata": {},
   "outputs": [],
   "source": [
    "integer = [1,2,3,4,5]\n",
    "for number in integer:\n",
    "    print(\"yep\")"
   ]
  },
  {
   "cell_type": "code",
   "execution_count": null,
   "id": "fddad295-c457-4d23-a02d-f3641211875d",
   "metadata": {},
   "outputs": [],
   "source": [
    "integer = [1,2,3,4,5]\n",
    "# x,number etc are all variables\n",
    "for x in integer:\n",
    "    print(x+x)"
   ]
  },
  {
   "cell_type": "code",
   "execution_count": null,
   "id": "1b1ed3b4-ca79-412f-abe1-fd1d880f98e7",
   "metadata": {},
   "outputs": [],
   "source": [
    "ice_cream = {'name':\"sameer\",\"weekly intake\":3,\"favourite ice cream\":[\"choc\",\"butter\",\"vanilla\"]}\n",
    "#for cream in ice_cream:\n",
    "#    print(cream)                          #this returns only the name of keys\n",
    "#for cream in ice_cream.values():\n",
    "#    print(cream)                        #this returns only the values of keys\n",
    "for key,value in ice_cream.items():\n",
    "    print(key,'->',value)                # this returns both key and value"
   ]
  },
  {
   "cell_type": "code",
   "execution_count": null,
   "id": "aa75dce1-10f6-41a6-8be0-67663b7e6f0f",
   "metadata": {},
   "outputs": [],
   "source": [
    "# NESTED FOR LOOP\n",
    "flavours = ['choc','vanilla','mint','pista']\n",
    "toppings = ['choc rice','oreo','brownie','syrup']\n",
    "\n",
    "for one in flavours:\n",
    "    for two in toppings:\n",
    "        print(one, two)\n"
   ]
  },
  {
   "cell_type": "markdown",
   "id": "50b1303b-fe24-4cd0-bc42-0fd9ac72c370",
   "metadata": {},
   "source": [
    "# WHILE LOOPS\n"
   ]
  },
  {
   "cell_type": "code",
   "execution_count": null,
   "id": "fb2c4d92-3901-4302-9f9d-4462c9536ac5",
   "metadata": {},
   "outputs": [],
   "source": [
    "number = 0\n",
    "\n",
    "while number <= 5:\n",
    "    print(number)\n",
    "    number = number + 1\n",
    "\n",
    "    "
   ]
  },
  {
   "cell_type": "code",
   "execution_count": null,
   "id": "2d2e41ee-3a45-4bba-8cf2-67f1e325fa6c",
   "metadata": {},
   "outputs": [],
   "source": [
    "number = 0\n",
    "\n",
    "while number < 5:\n",
    "    print(number)\n",
    "    if number == 3:\n",
    "        break\n",
    "    number = number + 1\n"
   ]
  },
  {
   "cell_type": "code",
   "execution_count": null,
   "id": "45eed933-a2f3-43c3-a04e-b6759d3bc3ba",
   "metadata": {},
   "outputs": [],
   "source": [
    "number = 0\n",
    "\n",
    "while number < 5:\n",
    "    print(number)\n",
    "    if number == 6:\n",
    "        continue\n",
    "    number = number + 1\n",
    "else:\n",
    "    print(\"no longer < 5\") "
   ]
  },
  {
   "cell_type": "code",
   "execution_count": null,
   "id": "f4e24a93-36e1-4167-9517-44dddbf5c870",
   "metadata": {},
   "outputs": [],
   "source": [
    "# this will execute infinitely, press stop kernel\n",
    "number = 0\n",
    "\n",
    "while number < 5:\n",
    "    print(number)\n",
    "    if number == 3:\n",
    "        continue\n",
    "    number = number + 1\n",
    "else:\n",
    "    print(\"no longer < 5\") "
   ]
  },
  {
   "cell_type": "code",
   "execution_count": null,
   "id": "9461a73c-ed2d-4980-bee2-0db57aa48730",
   "metadata": {
    "scrolled": true
   },
   "outputs": [],
   "source": [
    "number = 0\n",
    "\n",
    "while number < 5:\n",
    "    number = number + 1\n",
    "    if number == 3:\n",
    "        continue\n",
    "    print(number)\n",
    "else:\n",
    "    print(\"no longer < 5\") "
   ]
  },
  {
   "cell_type": "markdown",
   "id": "bddb5f3b-59b0-47c8-a783-e3051d64a922",
   "metadata": {},
   "source": [
    "# FUNCTIONS\n"
   ]
  },
  {
   "cell_type": "code",
   "execution_count": 7,
   "id": "1fcabfa5-d779-4349-9631-77cef420dd5a",
   "metadata": {},
   "outputs": [
    {
     "name": "stdout",
     "output_type": "stream",
     "text": [
      "we did it.\n"
     ]
    }
   ],
   "source": [
    "def first_function():\n",
    "    print(\"we did it.\")\n",
    "\n",
    "# calling the function\n",
    "first_function()"
   ]
  },
  {
   "cell_type": "code",
   "execution_count": 17,
   "id": "aa188a08-e0ac-4274-a5c1-d10836706ed2",
   "metadata": {},
   "outputs": [
    {
     "name": "stdout",
     "output_type": "stream",
     "text": [
      "4\n"
     ]
    }
   ],
   "source": [
    "# functions with arguments\n",
    "\n",
    "def number_squared(number):\n",
    "    print(number**2)\n",
    "\n",
    "number_squared(2)"
   ]
  },
  {
   "cell_type": "code",
   "execution_count": 23,
   "id": "bb181df1-2908-49ea-8163-2d90c631eee2",
   "metadata": {},
   "outputs": [
    {
     "name": "stdout",
     "output_type": "stream",
     "text": [
      "15625\n"
     ]
    }
   ],
   "source": [
    "# functions with multiple arguments\n",
    "\n",
    "def number_squared_custom(number, power):\n",
    "    print(number**power)\n",
    "\n",
    "number_squared_custom(5,6)"
   ]
  },
  {
   "cell_type": "code",
   "execution_count": 41,
   "id": "e41e1213-413d-493c-ab7c-01241fdda11a",
   "metadata": {},
   "outputs": [
    {
     "name": "stdout",
     "output_type": "stream",
     "text": [
      "30\n"
     ]
    }
   ],
   "source": [
    "# arbitrary function\n",
    "# used when we dont know how many arguments we want to pass through\n",
    "\n",
    "args_tuple =  (5,6,4,1,7,8)\n",
    "\n",
    "def number_args(*number):\n",
    "    print(number[0]*number[1])\n",
    "\n",
    "number_args(*args_tuple)"
   ]
  },
  {
   "cell_type": "code",
   "execution_count": 45,
   "id": "e6158944-b752-48c9-bfd0-059133f7df7c",
   "metadata": {},
   "outputs": [
    {
     "name": "stdout",
     "output_type": "stream",
     "text": [
      "243\n"
     ]
    }
   ],
   "source": [
    "# keyword arguments\n",
    "def number_squared_cust(number, power):\n",
    "    print(number**power)\n",
    "\n",
    "number_squared_cust(power = 5, number = 3)"
   ]
  },
  {
   "cell_type": "code",
   "execution_count": 72,
   "id": "3af412d7-4726-4ad7-8c9b-bc836b39723b",
   "metadata": {},
   "outputs": [
    {
     "name": "stdout",
     "output_type": "stream",
     "text": [
      "My number is : 2309My other number : 123\n"
     ]
    }
   ],
   "source": [
    "# keyword arbitrary argument\n",
    "def number_kwargs(**number):\n",
    "    print('My number is : ' + number['integer'] + \n",
    "         'My other number : ' + number ['integer2'])\n",
    "\n",
    "number_kwargs(integer = '2309', integer2 = '123')"
   ]
  },
  {
   "cell_type": "code",
   "execution_count": null,
   "id": "3be104ce-da80-418e-85d4-ba8091f2a1f8",
   "metadata": {},
   "outputs": [],
   "source": []
  }
 ],
 "metadata": {
  "kernelspec": {
   "display_name": "Python [conda env:base] *",
   "language": "python",
   "name": "conda-base-py"
  },
  "language_info": {
   "codemirror_mode": {
    "name": "ipython",
    "version": 3
   },
   "file_extension": ".py",
   "mimetype": "text/x-python",
   "name": "python",
   "nbconvert_exporter": "python",
   "pygments_lexer": "ipython3",
   "version": "3.12.7"
  }
 },
 "nbformat": 4,
 "nbformat_minor": 5
}
