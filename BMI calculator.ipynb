{
 "cells": [
  {
   "cell_type": "code",
   "execution_count": 4,
   "id": "e171a17d-1ab9-4b73-9d1e-3262ddd35c22",
   "metadata": {},
   "outputs": [],
   "source": [
    "# BMI CALCULATOR\n",
    "\n",
    "# FORMULA\n",
    "# BMI = BMI = weight (kg) / (height (m))²\n",
    "# For imperial units BMI = (weight (lb) * 703 / (height (in))²)"
   ]
  },
  {
   "cell_type": "code",
   "execution_count": 31,
   "id": "d8200d88-2e6b-45bd-9ea9-7d741bb0183a",
   "metadata": {},
   "outputs": [
    {
     "name": "stdin",
     "output_type": "stream",
     "text": [
      "Enter your weight(kg):  100\n",
      "Enter your height(m):  1.82\n"
     ]
    },
    {
     "name": "stdout",
     "output_type": "stream",
     "text": [
      "30.189590629151066\n",
      "Obese class 1\n"
     ]
    }
   ],
   "source": [
    "# GETTING WEIGHT(KGS) AND HEIGHT(M) FROM THE USER \n",
    "weight = float(input(\"Enter your weight(kg): \"))\n",
    "\n",
    "height = float(input(\"Enter your height(m): \"))\n",
    "\n",
    "# CALCULATING THE BMI USING METRIC FORMULA\n",
    "bmi = (weight)/ (height*height)\n",
    "\n",
    "# DISPLAYING THE BMI RESULT\n",
    "print(bmi)\n",
    "\n",
    "# CLASSIFYING WITHIN THE RANGE\n",
    "\n",
    "if bmi > 0:\n",
    "    if bmi<16:\n",
    "        print(\"Severe Thinness\")\n",
    "    elif bmi>=16 and bmi<17:\n",
    "        print(\"Moderate hinness\")\n",
    "    elif bmi>=17 and bmi<18.5:\n",
    "        print(\"Mild Thinness\")\n",
    "    elif bmi>=18.5 and bmi<25:\n",
    "        print(\"Normal\")\n",
    "    elif bmi>=25 and bmi<30:\n",
    "        print(\"Overweight\")\n",
    "    elif bmi>=30 and bmi<35:\n",
    "        print(\"Obese class 1\")\n",
    "    elif bmi>=35 and bmi<40:\n",
    "        print(\"Obese class 2\")\n",
    "    elif bmi>40:\n",
    "        print(\"Obese class 3\")\n",
    "else:\n",
    "    print(\"Please enter valid inputs\")\n"
   ]
  },
  {
   "cell_type": "code",
   "execution_count": null,
   "id": "57cb5c5c-d3e9-4aef-b914-429f6b50cdf2",
   "metadata": {},
   "outputs": [],
   "source": [
    "Severe Thinness\t< 16\n",
    "Moderate Thinness\t16 - 17\n",
    "Mild Thinness\t17 - 18.5\n",
    "Normal\t18.5 - 25\n",
    "Overweight\t25 - 30\n",
    "Obese Class I\t30 - 35\n",
    "Obese Class II\t35 - 40\n",
    "Obese Class III\t> 40"
   ]
  },
  {
   "cell_type": "code",
   "execution_count": null,
   "id": "b07df398-6e98-4a6c-a4fb-d299a6c6c0c5",
   "metadata": {},
   "outputs": [],
   "source": []
  },
  {
   "cell_type": "code",
   "execution_count": null,
   "id": "0a803eb5-b5c7-4f30-b941-a1193f93c811",
   "metadata": {},
   "outputs": [],
   "source": []
  }
 ],
 "metadata": {
  "kernelspec": {
   "display_name": "Python 3 (ipykernel)",
   "language": "python",
   "name": "python3"
  },
  "language_info": {
   "codemirror_mode": {
    "name": "ipython",
    "version": 3
   },
   "file_extension": ".py",
   "mimetype": "text/x-python",
   "name": "python",
   "nbconvert_exporter": "python",
   "pygments_lexer": "ipython3",
   "version": "3.12.7"
  }
 },
 "nbformat": 4,
 "nbformat_minor": 5
}
