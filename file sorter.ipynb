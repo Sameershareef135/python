{
 "cells": [
  {
   "cell_type": "code",
   "execution_count": 35,
   "id": "57b109fc-24eb-4404-90bb-2e1151dff038",
   "metadata": {},
   "outputs": [],
   "source": [
    "import os, shutil"
   ]
  },
  {
   "cell_type": "code",
   "execution_count": 37,
   "id": "c6806719-1e6c-4050-87e9-bfc2e06afeac",
   "metadata": {},
   "outputs": [],
   "source": [
    "path = r\"C:/Users/Desktop/sameer/google certification vids/ # add user name to this later"
   ]
  },
  {
   "cell_type": "code",
   "execution_count": 39,
   "id": "62494f69-b923-4ef2-836c-1f1f2550af76",
   "metadata": {},
   "outputs": [],
   "source": [
    "file_name = os.listdir(path)"
   ]
  },
  {
   "cell_type": "code",
   "execution_count": 45,
   "id": "39ccba66-3ac4-4488-bf55-3b0f90b2961c",
   "metadata": {},
   "outputs": [],
   "source": [
    "folder_names = [\"pdf files\",\"video files\",\"word files\",\"vtt files\"] # vtt/text files created a folder text files within vtt folder,\n",
    "#so a folder within a folder was created\n",
    "\n",
    "for loop in range(0,4):\n",
    "    if not os.path.exists(path + folder_names[loop]):\n",
    "        #print(path + folder_names[loop])\n",
    "        os.makedirs(path + folder_names[loop])\n",
    "\n",
    "for file in file_name:\n",
    "    if \".pdf\" in file and not os.path.exists(path + \"pdf files/\" + file):\n",
    "        shutil.move(path + file,path + \"pdf files/\" + file)\n",
    "    elif \".mp4\" in file and not os.path.exists(path + \"video files/\" + file):\n",
    "        shutil.move(path + file,path + \"video files/\" + file)\n",
    "    elif \".docx\" in file and not os.path.exists(path + \"word files/\" + file):\n",
    "        shutil.move(path + file,path + \"word files/\" + file)\n",
    "    elif \".vtt\" in file and not os.path.exists(path + \"vtt files/\" + file):\n",
    "        shutil.move(path + file,path + \"vtt files/\" + file) \n"
   ]
  },
  {
   "cell_type": "code",
   "execution_count": null,
   "id": "5169c6f7-b953-4e68-a36d-8a02b532120b",
   "metadata": {},
   "outputs": [],
   "source": []
  },
  {
   "cell_type": "code",
   "execution_count": null,
   "id": "1a2c16f9-d079-4168-a51a-9e59d71724c3",
   "metadata": {},
   "outputs": [],
   "source": []
  }
 ],
 "metadata": {
  "kernelspec": {
   "display_name": "Python 3 (ipykernel)",
   "language": "python",
   "name": "python3"
  },
  "language_info": {
   "codemirror_mode": {
    "name": "ipython",
    "version": 3
   },
   "file_extension": ".py",
   "mimetype": "text/x-python",
   "name": "python",
   "nbconvert_exporter": "python",
   "pygments_lexer": "ipython3",
   "version": "3.12.7"
  }
 },
 "nbformat": 4,
 "nbformat_minor": 5
}
